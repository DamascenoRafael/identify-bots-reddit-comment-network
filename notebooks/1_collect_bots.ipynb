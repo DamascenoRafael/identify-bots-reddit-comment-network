{
 "cells": [
  {
   "cell_type": "code",
   "execution_count": 1,
   "metadata": {},
   "outputs": [],
   "source": [
    "import sys\n",
    "sys.path.append('../src/')\n",
    "import reddit_miner\n",
    "import paths_constants\n",
    "\n",
    "from datetime import date"
   ]
  },
  {
   "cell_type": "code",
   "execution_count": 2,
   "metadata": {},
   "outputs": [],
   "source": [
    "all_bots = set()"
   ]
  },
  {
   "cell_type": "code",
   "execution_count": 3,
   "metadata": {},
   "outputs": [],
   "source": [
    "def botbust_post_handler(post):\n",
    "    # BotBust post title always follows the format:\n",
    "    # /u/societybot banned from /r/Astros\n",
    "\n",
    "    splited = post['title'].split()\n",
    "    if splited[1] == 'banned':\n",
    "        user = splited[0].split('/u/')[1].strip().lower()\n",
    "        all_bots.add(user)"
   ]
  },
  {
   "cell_type": "code",
   "execution_count": 4,
   "metadata": {
    "scrolled": false
   },
   "outputs": [
    {
     "name": "stderr",
     "output_type": "stream",
     "text": [
      "100%|██████████| 1190/1190 [13:02<00:00,  1.52it/s]\n"
     ]
    }
   ],
   "source": [
    "# BotBust Profile: https://www.reddit.com/user/BotBust/\n",
    "\n",
    "# day the user BotBust signed up for reddit (cake day on reddit profile)\n",
    "botbust_cakeday = date(2016, 8, 30)\n",
    "\n",
    "reddit_miner.collect_posts('BotBust', botbust_cakeday, botbust_post_handler)"
   ]
  },
  {
   "cell_type": "code",
   "execution_count": 5,
   "metadata": {},
   "outputs": [
    {
     "name": "stdout",
     "output_type": "stream",
     "text": [
      "Bots collected from BotBust user: 725\n"
     ]
    }
   ],
   "source": [
    "print('Bots collected from BotBust user:', len(all_bots))"
   ]
  },
  {
   "cell_type": "code",
   "execution_count": 6,
   "metadata": {},
   "outputs": [],
   "source": [
    "# The 50 most Active Bots\n",
    "# https://www.reddit.com/r/dataisbeautiful/comments/9mh3pn/oc_the_50_most_active_bots_on_reddit_based_on/\n",
    "all_bots.update([user.strip().lower() for user in ['automoderator','memeinvestor_bot','transcribot','rpbot','imguralbumbot','transcribersofreddit','commonmisspellingbot','mtgcardfetcher','tweettranscriberbot','wikitextbot','sneakpeekbot','imagesofnetwork','goodbot_badbot','agree-with-you','nfcaaofficialrefbot','roboragi','gifv-bot','writingpromptsrobot','remindmebot','steamkiwi','helperbot_','thenitromefan','snapshillbot','alternate-source-bot','anti-gif-bot','fatfingerhelperbot','timezone_bot','whoaitsafactorial','soulstone_gatekeeper','qualw','hiiamcaptainobvious','tweetsincommentsbot','bot_metric','limbretrieval-bot','goodbotl','maximagebot','keepingdankmemesdank','locationbot','contentforager','hwsbot','snap_counter','bitcoinallbot','cummybot2000','iamabot_VOI','concise_ama_bot','morejpeg_auto','biglebowskibot','sexstatsbot','user_simulator','swack_']])"
   ]
  },
  {
   "cell_type": "code",
   "execution_count": 7,
   "metadata": {},
   "outputs": [],
   "source": [
    "# https://www.reddit.com/r/autowikibot/wiki/redditbots\n",
    "all_bots.update([user.strip().lower() for user in ['A858DE45F56D9BC9','AAbot','ADHDbot','ALTcointip','AVR_Modbot','A_random_gif','AltCodeBot','Antiracism_Bot','ApiContraption','AssHatBot','AtheismModBot','AutoInsult','BELITipBot','BadLinguisticsBot','BanishedBot','BeetusBot','BensonTheBot','Bible_Verses_Bot','BlackjackBot','BlockchainBot','Brigade_Bot','Bronze','CAH_BLACK_BOT','CHART_BOT','CLOSING_PARENTHESIS','CPTModBot','Cakeday','CalvinBot','CaptionBot','CarterDugSubLinkBot','CasualMetricBot','Chemistry_Bot','ChristianityBot','Codebreakerbreaker','Comment_Codebreaker','ComplimentingBot','CreepierSmileBot','CreepySmileBot','CuteBot6969','DDBotIndia','DNotesTip','DRKTipBot','DefinitelyBot','DeltaBot','Dictionary__Bot','DidSomeoneSayBoobs','DogeLotteryModBot','DogeTipStatsBot','DogeWordCloudBot','DotaCastingBot','Downtotes_Plz','DownvotesMcGoats','DropBox_Bot','EmmaBot','Epic_Face_Bot','EscapistVideoBot','ExmoBot','ExplanationBot','FTFY_Cat6','FTFY_Cat','FedoraTipAutoBot','FelineFacts','Fixes_GrammerNazi_','FriendSafariBot','FriendlyCamelCaseBot','FrontpageWatch','Frown_Bot','GATSBOT','GabenCoinTipBot','GameDealsBot','Gatherer_bot','GeekWhackBot','GiantBombBot','GifAsHTML5','GoneWildResearcher','GooglePlusBot','GotCrypto','GrammerNazi_','GreasyBacon','Grumbler_bot','GunnersGifsBot','GunnitBot','HCE_Replacement_Bot','HScard_display_bot','Handy_Related_Sub','HighResImageFinder','HockeyGT_Bot','HowIsThisBestOf_Bot','IAgreeBot','ICouldntCareLessBot','IS_IT_SOLVED','I_BITCOIN_CATS','I_Say_No_','Insane_Photo_Bot','IsItDownBot','JiffyBot','JotBot','JumpToBot','KSPortBot','KarmaConspiracy_Bot','LazyLinkerBot','LinkFixerBotSnr','Link_Correction_Bot','Link_Demobilizer','Link_Rectifier_Bot','LinkedCommentBot','LocationBot','MAGNIFIER_BOT','Makes_Small_Text_Bot','Meta_Bot','MetatasticBot','MetricPleaseBot','Metric_System_Bot','MontrealBot','MovieGuide','MultiFunctionBot','MumeBot','NASCARThreadBot','NFLVideoBot','NSLbot','Nazeem_Bot','New_Small_Text_Bot','Nidalee_Bot','NightMirrorMoon','NoSleepAutoMod','NoSobStoryBot2','NobodyDoesThis','NotRedditEnough','PHOTO_OF_CAPTAIN_RON','PJRP_Bot','PhoenixBot','PigLatinsYourComment','PlayStoreLinks_Bot','PlaylisterBot','PleaseRespectTables','PloungeMafiaVoteBot','PokemonFlairBot','PoliteBot','PoliticBot','PonyTipBot','PornOverlord','Porygon','PresidentObama___','ProselytizerBot','PunknRollBot','QUICHE','RFootballBot','Random','RandomTriviaBot','Rangers_Bot','Readdit_Bot','Reads_Small_Text_Bot','RealtechPostBot','ReddCoinGoldBot','Relevant_News_Bot','RequirementsBot','RfreebandzBOT','RiskyClickBot','SERIAL_JOKE_KILLER','SMCTipBot','SRD_Notifier','SRS_History_Bot','SRScreenshot','SWTOR_Helper_Bot','SakuraiBot_test','SakuraiBot','SatoshiTipBot','ShadowBannedBot','ShibeBot','ShillForMonsanto','Shiny','ShittyGandhiQuotes','ShittyImageBot','SketchNotSkit','SmallTextReader','Smile_Bot','Somalia_Bot','Some_Bot','StackBot','StarboundBot','StencilTemplateBOT','StreetFightMirrorBot','SuchModBot','SurveyOfRedditBot','TOP_COMMENT_OF_YORE','Text_Reader_Bot','TheSwedishBot','TipMoonBot','TitsOrGTFO_Bot','TweetPoster','Twitch2YouTube','Unhandy_Related_Sub','UnobtaniumTipBot','UrbanDicBot','UselessArithmeticBot','UselessConversionBot','VideoLinkBot','VideopokerBot','VsauceBot','WWE_Network_Bot','WeAppreciateYou','Website_Mirror_Bot','WeeaBot','WhoWouldWinBot','Wiki_Bot','Wiki_FirstPara_bot','WikipediaCitationBot','Wink','WordCloudBot2','WritingPromptsBot','X_BOT','YT_Bot','_Definition_Bot_','_FallacyBot_','_Rita_','__bot__','albumbot','allinonebot','annoying_yes_bot','asmrspambot','astro','auto','automoderator','autourbanbot','autowikibot','bRMT_Bot','bad_ball_ban_bot','ban_pruner','baseball_gif_bot','beecointipbot','bitcoinpartybot','bitcointip','bitofnewsbot','bocketybot','c5bot','c5bot','cRedditBot','callfloodbot','callibot','canada_goose_tip_bot','changetip','cheesecointipbot','chromabot','classybot','coinflipbot','coinyetipper','colorcodebot','comment_copier_bot','compilebot','conspirobot','creepiersmilebot','cris9696','cruise_bot','d3posterbot','define_bot','demobilizer','dgctipbot','digitipbot','disapprovalbot','dogetipbot','earthtipbot','edmprobot','elMatadero_bot','elwh392','expired_link_bot','fa_mirror','fact_check_bot','faketipbot','fedora_tip_bot','fedoratips','flappytip','flips_title','foreigneducationbot','frytipbot','fsctipbot','gabenizer','gabentipbot','gfy_bot','gfycat','gifster_bot','gives_you_boobies','givesafuckbot','gocougs_bot','godwin_finder','golferbot','gracefulcharitybot','gracefulclaritybot','gregbot','groompbot','gunners_gif_bot','haiku_robot','havoc_bot','hearing','hearing_aid_bot','hearingaid_bot','hit_bot','hockey_gif_bot','howstat','hwsbot','imgurHostBot','imgur_rehosting','imgurtranscriber','imirror_bot','isitupbot','jerkbot','keysteal_bot','kittehcointipbot','last_cakeday_bot','linkfixerbot1','linkfixerbot2','linkfixerbot3','loser_detector_bot','luckoftheshibe','makesTextSmall','malen','matthewrobo','meme_transcriber','memedad','misconception_fixer','mma_gif_bot','moderator','nba_gif_bot','new_eden_news_bot','nhl_gif_bot','not_alot_bot','notoverticalvideo','nyantip','okc_rating_bot','pandatipbot','pandatips','potdealer','provides','qznc_bot','rSGSpolice','r_PictureGame','raddit','randnumbot','rarchives','readsmalltextbot','redditbots','redditreviewbot','redditreviewbot','reddtipbot','relevantxkcd','request_bot','rhiever','rightsbot','rnfl_robot','roger_bot','rss_feed','rubycointipbot','rule_bot','rusetipbot','sentimentviewbot','serendipitybot','shadowbanbot','slapbot','slickwom','snapshot_bot','soccer_gif_bot','softwareswap_bot','sports_gif_bot','spursgifs_xposterbot','stats','steam_bot','subtext','synonym_flash','tabledresser','techobot','tennis_gif_bot','test_bot0x00','tipmoonbot1','tipmoonbot2','tittietipbot','topcoin_tip','topredditbot','totes_meta_bot','ttumblrbots','unitconvert','valkyribot','versebot','vertcoinbot','vertcointipbot','wheres_the_karma_bot','wooshbot','xkcd_bot','xkcd_number_bot','xkcd_number_bot','xkcd_number_bot','xkcd_transcriber','xkcdcomic_bot','yes_it_is_weird','yourebot']])"
   ]
  },
  {
   "cell_type": "code",
   "execution_count": 8,
   "metadata": {},
   "outputs": [
    {
     "name": "stdout",
     "output_type": "stream",
     "text": [
      "Total of bots colleted: 1134\n"
     ]
    }
   ],
   "source": [
    "print('Total of bots colleted:', len(all_bots))"
   ]
  },
  {
   "cell_type": "code",
   "execution_count": 9,
   "metadata": {},
   "outputs": [],
   "source": [
    "# save all_bots\n",
    "with open(paths_constants.bots_file, 'w') as file:\n",
    "    for bot in all_bots:\n",
    "        file.write(bot + '\\n')"
   ]
  },
  {
   "cell_type": "code",
   "execution_count": null,
   "metadata": {},
   "outputs": [],
   "source": []
  }
 ],
 "metadata": {
  "kernelspec": {
   "display_name": "Python 3",
   "language": "python",
   "name": "python3"
  },
  "language_info": {
   "codemirror_mode": {
    "name": "ipython",
    "version": 3
   },
   "file_extension": ".py",
   "mimetype": "text/x-python",
   "name": "python",
   "nbconvert_exporter": "python",
   "pygments_lexer": "ipython3",
   "version": "3.7.4"
  }
 },
 "nbformat": 4,
 "nbformat_minor": 2
}
