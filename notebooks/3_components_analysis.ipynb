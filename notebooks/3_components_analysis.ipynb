{
 "cells": [
  {
   "cell_type": "code",
   "execution_count": 1,
   "metadata": {},
   "outputs": [],
   "source": [
    "import sys\n",
    "sys.path.append('../src/')\n",
    "from componnent_analysis import WeaklyComponnentAnalysis, StronglyComponnentAnalysis\n",
    "import paths_constants"
   ]
  },
  {
   "cell_type": "code",
   "execution_count": 2,
   "metadata": {},
   "outputs": [],
   "source": [
    "dataset = paths_constants.data_raw / 'RC_2018-01-01'"
   ]
  },
  {
   "cell_type": "code",
   "execution_count": 3,
   "metadata": {},
   "outputs": [
    {
     "name": "stdout",
     "output_type": "stream",
     "text": [
      "Reading edgelist file... Depending on the size this may take a while.\n",
      "Reading bots file...\n"
     ]
    }
   ],
   "source": [
    "network = WeaklyComponnentAnalysis(dataset)"
   ]
  },
  {
   "cell_type": "code",
   "execution_count": 4,
   "metadata": {},
   "outputs": [
    {
     "name": "stdout",
     "output_type": "stream",
     "text": [
      "Name: RC_2018-01-01\n",
      "Type: DiGraph\n",
      "Number of nodes: 372817\n",
      "Number of edges: 802339\n",
      "Average in degree:   2.1521\n",
      "Average out degree:   2.1521\n",
      "Graph Density:   5.772549329593373e-06\n",
      "Total of Comments:   953205\n",
      "Bots on Network:   112\n"
     ]
    }
   ],
   "source": [
    "network.get_summary()"
   ]
  },
  {
   "cell_type": "code",
   "execution_count": 5,
   "metadata": {},
   "outputs": [
    {
     "name": "stdout",
     "output_type": "stream",
     "text": [
      "Calculating metrics related to degree and weight\n",
      "Calculating clustering\n",
      "Calculating metrics related to reciprocity\n"
     ]
    }
   ],
   "source": [
    "network.calculate_all_metrics()"
   ]
  },
  {
   "cell_type": "code",
   "execution_count": null,
   "metadata": {},
   "outputs": [],
   "source": []
  }
 ],
 "metadata": {
  "kernelspec": {
   "display_name": "Python 3",
   "language": "python",
   "name": "python3"
  },
  "language_info": {
   "codemirror_mode": {
    "name": "ipython",
    "version": 3
   },
   "file_extension": ".py",
   "mimetype": "text/x-python",
   "name": "python",
   "nbconvert_exporter": "python",
   "pygments_lexer": "ipython3",
   "version": "3.7.5"
  }
 },
 "nbformat": 4,
 "nbformat_minor": 2
}
