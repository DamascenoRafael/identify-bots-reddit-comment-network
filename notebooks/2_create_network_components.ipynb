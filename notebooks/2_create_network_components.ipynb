{
 "cells": [
  {
   "cell_type": "code",
   "execution_count": 1,
   "metadata": {},
   "outputs": [],
   "source": [
    "import sys\n",
    "sys.path.append('../src/')\n",
    "from componnents_info import ComponnentsInfo\n",
    "import paths_constants"
   ]
  },
  {
   "cell_type": "code",
   "execution_count": 2,
   "metadata": {},
   "outputs": [],
   "source": [
    "dataset = paths_constants.data_raw / 'RC_2018-01-01'"
   ]
  },
  {
   "cell_type": "code",
   "execution_count": 3,
   "metadata": {},
   "outputs": [
    {
     "name": "stdout",
     "output_type": "stream",
     "text": [
      "Reading edgelist file... Depending on the size this may take a while.\n",
      "Reading bots file...\n"
     ]
    }
   ],
   "source": [
    "network = ComponnentsInfo(dataset)"
   ]
  },
  {
   "cell_type": "code",
   "execution_count": 4,
   "metadata": {},
   "outputs": [
    {
     "name": "stdout",
     "output_type": "stream",
     "text": [
      "Name: RC_2018-01-01\n",
      "Type: DiGraph\n",
      "Number of nodes: 427603\n",
      "Number of edges: 842258\n",
      "Average in degree:   1.9697\n",
      "Average out degree:   1.9697\n",
      "Graph Density:   4.606432094181023e-06\n",
      "Total of Comments:   998494\n",
      "Bots on Network:   115\n"
     ]
    }
   ],
   "source": [
    "network.get_summary()"
   ]
  },
  {
   "cell_type": "code",
   "execution_count": 5,
   "metadata": {},
   "outputs": [
    {
     "name": "stdout",
     "output_type": "stream",
     "text": [
      "strongly connected components\n",
      "+---------+--------------+--------+\n",
      "| # nodes | # components | # bots |\n",
      "+---------+--------------+--------+\n",
      "|    1    |    218106    |   39   |\n",
      "|    2    |    14931     |   3    |\n",
      "|    3    |     2353     |   0    |\n",
      "|    4    |     604      |   1    |\n",
      "|    5    |     217      |   0    |\n",
      "|    6    |      91      |   0    |\n",
      "|    7    |      32      |   0    |\n",
      "|    8    |      14      |   0    |\n",
      "|    9    |      16      |   0    |\n",
      "|    10   |      5       |   0    |\n",
      "|    11   |      9       |   0    |\n",
      "|    12   |      3       |   0    |\n",
      "|    15   |      1       |   0    |\n",
      "|    16   |      1       |   0    |\n",
      "|    18   |      3       |   0    |\n",
      "|    19   |      1       |   0    |\n",
      "|    20   |      1       |   0    |\n",
      "|    24   |      1       |   0    |\n",
      "|    27   |      1       |   0    |\n",
      "|    38   |      1       |   0    |\n",
      "|    51   |      1       |   0    |\n",
      "|  167600 |      1       |   72   |\n",
      "+---------+--------------+--------+\n",
      "# total bots in network: 115\n",
      "# total components: 236393\n",
      "large component size: 167600\n",
      "Saving subgraph of the largest component...\n"
     ]
    }
   ],
   "source": [
    "network.strongly_components_info()"
   ]
  },
  {
   "cell_type": "code",
   "execution_count": 6,
   "metadata": {},
   "outputs": [
    {
     "name": "stdout",
     "output_type": "stream",
     "text": [
      "weakly connected components\n",
      "+---------+--------------+--------+\n",
      "| # nodes | # components | # bots |\n",
      "+---------+--------------+--------+\n",
      "|    1    |     642      |   2    |\n",
      "|    2    |    17804     |   1    |\n",
      "|    3    |     3267     |   0    |\n",
      "|    4    |     996      |   0    |\n",
      "|    5    |     329      |   0    |\n",
      "|    6    |     180      |   0    |\n",
      "|    7    |      76      |   0    |\n",
      "|    8    |      47      |   0    |\n",
      "|    9    |      18      |   0    |\n",
      "|    10   |      20      |   0    |\n",
      "|    11   |      8       |   0    |\n",
      "|    12   |      5       |   0    |\n",
      "|    13   |      1       |   0    |\n",
      "|    14   |      3       |   0    |\n",
      "|    15   |      3       |   0    |\n",
      "|    16   |      3       |   0    |\n",
      "|    17   |      3       |   0    |\n",
      "|    18   |      3       |   0    |\n",
      "|    19   |      1       |   0    |\n",
      "|    20   |      2       |   0    |\n",
      "|    22   |      3       |   0    |\n",
      "|    29   |      1       |   0    |\n",
      "|   201   |      1       |   0    |\n",
      "|  372817 |      1       |  112   |\n",
      "+---------+--------------+--------+\n",
      "# total bots in network: 115\n",
      "# total components: 23417\n",
      "large component size: 372817\n",
      "Saving subgraph of the largest component...\n"
     ]
    }
   ],
   "source": [
    "network.weakly_components_info()"
   ]
  },
  {
   "cell_type": "code",
   "execution_count": null,
   "metadata": {},
   "outputs": [],
   "source": []
  }
 ],
 "metadata": {
  "kernelspec": {
   "display_name": "Python 3",
   "language": "python",
   "name": "python3"
  },
  "language_info": {
   "codemirror_mode": {
    "name": "ipython",
    "version": 3
   },
   "file_extension": ".py",
   "mimetype": "text/x-python",
   "name": "python",
   "nbconvert_exporter": "python",
   "pygments_lexer": "ipython3",
   "version": "3.7.4"
  }
 },
 "nbformat": 4,
 "nbformat_minor": 2
}
